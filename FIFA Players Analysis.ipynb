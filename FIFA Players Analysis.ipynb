{
 "cells": [
  {
   "cell_type": "markdown",
   "metadata": {},
   "source": [
    "# **FIFA Players Analysis**"
   ]
  },
  {
   "cell_type": "code",
   "execution_count": null,
   "metadata": {
    "ExecuteTime": {
     "end_time": "2023-07-30T07:33:49.069052900Z",
     "start_time": "2023-07-30T07:33:48.617064300Z"
    }
   },
   "outputs": [],
   "source": [
    "import matplotlib.pyplot as plt\n",
    "import numpy as np\n",
    "import pandas as pd"
   ]
  },
  {
   "cell_type": "markdown",
   "metadata": {},
   "source": [
    "### **Exploratory Data Analysis**"
   ]
  },
  {
   "cell_type": "code",
   "execution_count": null,
   "metadata": {
    "ExecuteTime": {
     "end_time": "2023-07-30T07:33:49.198330500Z",
     "start_time": "2023-07-30T07:33:49.073055200Z"
    }
   },
   "outputs": [],
   "source": [
    "fifa = pd.read_csv('Data/FIFA_Data.csv')"
   ]
  },
  {
   "cell_type": "markdown",
   "metadata": {},
   "source": [
    "#### **Histogram**"
   ]
  },
  {
   "cell_type": "code",
   "execution_count": null,
   "metadata": {
    "ExecuteTime": {
     "end_time": "2023-07-30T07:33:49.293084Z",
     "start_time": "2023-07-30T07:33:49.200331300Z"
    }
   },
   "outputs": [],
   "source": [
    "bins = [40, 50, 60, 70, 80, 90, 100] # bins are the towers or bars of a histogram\n",
    "plt.figure(figsize = (7, 5), dpi = 100)\n",
    "\n",
    "plt.hist(fifa.Overall, bins = bins, color = '#0356fc', edgecolor = 'black') # hist() function is used to create a histogram\n",
    "plt.xticks(bins)\n",
    "plt.title('Distribution of Player Skills in FIFA 2018', fontdict = {'fontname': 'Times New Roman', 'color': 'black', 'fontsize': 17, 'fontweight': 'bold'})\n",
    "plt.xlabel('Skill Level', fontdict = {'fontname': 'Arial', 'color': 'black', 'fontsize': 12, 'fontweight': 'bold'})\n",
    "plt.ylabel('Number of Players', fontdict = {'fontname': 'Arial', 'color': 'black', 'fontsize': 12, 'fontweight': 'bold'})\n",
    "\n",
    "plt.show()"
   ]
  },
  {
   "cell_type": "markdown",
   "metadata": {},
   "source": [
    "#### **Basic Pie Chart**"
   ]
  },
  {
   "cell_type": "code",
   "execution_count": null,
   "metadata": {
    "ExecuteTime": {
     "end_time": "2023-07-30T07:33:49.375015100Z",
     "start_time": "2023-07-30T07:33:49.292082600Z"
    }
   },
   "outputs": [],
   "source": [
    "left = fifa.loc[fifa['Preferred Foot'] == 'Left'].count()[0]\n",
    "right = fifa.loc[fifa['Preferred Foot'] == 'Right'].count()[0]\n",
    "\n",
    "label = ['Left', 'Right']\n",
    "color = ['#fcba03', '#0384fc']\n",
    "\n",
    "# valid font sizes are xx-small, x-small, small, medium, large, x-large, xx-large, larger, smaller, None\n",
    "# textprops control the formatting of the text\n",
    "# wedgeprops control the formatting of the pie chart\n",
    "plt.pie([left, right], labels = label, colors = color, autopct = '%.2f%%', textprops = {\"font\" : \"Arial\", \"size\" : \"large\", \"weight\" : \"bold\"}, wedgeprops = {\"edgecolor\" : \"white\", \"linewidth\" : 3, 'antialiased': True})\n",
    "plt.title('Foot Preferences (FIFA 2018)', fontdict = {'fontname': 'Times New Roman', 'color': 'black', 'fontsize': 17, 'fontweight': 'bold'})\n",
    "\n",
    "plt.show()"
   ]
  },
  {
   "cell_type": "markdown",
   "metadata": {},
   "source": [
    "#### **Complex Pie Chart**"
   ]
  },
  {
   "cell_type": "code",
   "execution_count": null,
   "metadata": {
    "ExecuteTime": {
     "end_time": "2023-07-30T07:33:49.468608400Z",
     "start_time": "2023-07-30T07:33:49.381017400Z"
    }
   },
   "outputs": [],
   "source": [
    "fifa.Weight = [int(x.strip('lbs')) if type(x) == str else x for x in fifa.Weight]\n",
    "plt.style.use('ggplot') # plt.style.use changes the global styling for all plots (it is a part of the style package)\n",
    "\n",
    "light = fifa.loc[fifa.Weight < 125].count()[0]\n",
    "light_medium = fifa.loc[(fifa.Weight >= 125) & (fifa.Weight < 150)].count()[0]\n",
    "medium = fifa.loc[(fifa.Weight >= 150) & (fifa.Weight < 170)].count()[0]\n",
    "medium_heavy = fifa.loc[(fifa.Weight >= 175) & (fifa.Weight < 200)].count()[0]\n",
    "heavy = fifa.loc[fifa.Weight >= 200].count()[0]\n",
    "weight = [light, light_medium, medium, medium_heavy, heavy]\n",
    "\n",
    "label = ['Under 125', '125 - 150', '150 - 175', '175 - 200', 'Over 200']\n",
    "explodes = [0.4, 0.1, 0, 0, 0.4]\n",
    "# color = ['#ff0000', '#9500ff', '#0b7801', '#04b2c2', '#bf8e08']\n",
    "\n",
    "plt.pie(weight, labels = label, autopct = '%.2f%%', pctdistance = 0.5, explode = explodes, textprops = {\"font\" : \"Arial\", \"size\" : \"small\", \"weight\" : \"bold\"}, wedgeprops = {\"edgecolor\" : \"white\", \"linewidth\" : 0.5, 'antialiased': True})\n",
    "plt.title('Player Weight (FIFA 2018) (in lbs)', fontdict = {'fontname': 'Times New Roman', 'color': 'black', 'fontsize': 17, 'fontweight': 'bold'})\n",
    "\n",
    "plt.show()"
   ]
  }
 ],
 "metadata": {
  "kernelspec": {
   "display_name": "base",
   "language": "python",
   "name": "python3"
  },
  "language_info": {
   "codemirror_mode": {
    "name": "ipython",
    "version": 3
   },
   "file_extension": ".py",
   "mimetype": "text/x-python",
   "name": "python",
   "nbconvert_exporter": "python",
   "pygments_lexer": "ipython3",
   "version": "0.0.0"
  },
  "orig_nbformat": 4
 },
 "nbformat": 4,
 "nbformat_minor": 2
}
