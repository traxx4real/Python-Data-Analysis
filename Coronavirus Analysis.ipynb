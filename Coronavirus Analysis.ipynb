{
 "cells": [
  {
   "cell_type": "markdown",
   "metadata": {},
   "source": [
    "# **Coronavirus Pandemic in India Analysis**"
   ]
  },
  {
   "cell_type": "code",
   "execution_count": null,
   "metadata": {},
   "outputs": [],
   "source": [
    "import numpy as np\n",
    "import pandas as pd\n",
    "import matplotlib.pyplot as plt\n",
    "import seaborn as sns"
   ]
  },
  {
   "cell_type": "markdown",
   "metadata": {},
   "source": [
    "### **Data Cleaning**"
   ]
  },
  {
   "cell_type": "code",
   "execution_count": null,
   "metadata": {},
   "outputs": [],
   "source": [
    "dfc = pd.read_csv('Data/COVID19_India.csv')"
   ]
  },
  {
   "cell_type": "code",
   "execution_count": null,
   "metadata": {},
   "outputs": [],
   "source": [
    "dfv = pd.read_csv('Data/COVID_Vaccine_Statewise.csv')"
   ]
  },
  {
   "cell_type": "code",
   "execution_count": null,
   "metadata": {},
   "outputs": [],
   "source": [
    "dfc.info() # info() displays the information about the DataFrame"
   ]
  },
  {
   "cell_type": "code",
   "execution_count": null,
   "metadata": {},
   "outputs": [],
   "source": [
    "dfc.describe() # describe() returns the description of the data in the DataFrame"
   ]
  },
  {
   "cell_type": "code",
   "execution_count": null,
   "metadata": {},
   "outputs": [],
   "source": [
    "dfc.drop(['Sno', 'Time', 'ConfirmedIndianNational', 'ConfirmedForeignNational'], axis = 1, inplace = True) # drop() is used to drop the unused rows/columns"
   ]
  },
  {
   "cell_type": "code",
   "execution_count": null,
   "metadata": {},
   "outputs": [],
   "source": [
    "dfc['Date'] = pd.to_datetime(dfc['Date'], format = '%Y-%m-%d') # to_datetime() is used to convert argument to datetime"
   ]
  },
  {
   "cell_type": "code",
   "execution_count": null,
   "metadata": {},
   "outputs": [],
   "source": [
    "dfv.rename(columns = {\"Updated On\": \"Vaccine Date\"}, inplace = True) # rename() is used to rename a row/column"
   ]
  },
  {
   "cell_type": "code",
   "execution_count": null,
   "metadata": {},
   "outputs": [],
   "source": [
    "dfv.info() # info() displays the information about the DataFrame"
   ]
  },
  {
   "cell_type": "code",
   "execution_count": null,
   "metadata": {},
   "outputs": [],
   "source": [
    "dfv.isnull().sum() # isnull() checks for the null values in the DataFrame"
   ]
  },
  {
   "cell_type": "code",
   "execution_count": null,
   "metadata": {},
   "outputs": [],
   "source": [
    "vaccination = dfv.drop(columns = ['Sputnik V (Doses Administered)', 'AEFI', '18-44 Years (Doses Administered)', '45-60 Years (Doses Administered)', '60+ Years (Doses Administered)'], axis = 1)"
   ]
  },
  {
   "cell_type": "code",
   "execution_count": null,
   "metadata": {},
   "outputs": [],
   "source": [
    "vaccine = dfv[dfv.State != 'India'] # removing the datas having state column as India"
   ]
  },
  {
   "cell_type": "code",
   "execution_count": null,
   "metadata": {},
   "outputs": [],
   "source": [
    "vaccine.rename(columns = {\"Total Individuals Vaccinated\": \"Total\"}, inplace = True)"
   ]
  },
  {
   "cell_type": "code",
   "execution_count": null,
   "metadata": {},
   "outputs": [],
   "source": [
    "dfc['Active'] = dfc['Confirmed'] - (dfc['Cured'] + dfc['Deaths'])"
   ]
  },
  {
   "cell_type": "code",
   "execution_count": null,
   "metadata": {},
   "outputs": [],
   "source": [
    "statewise = pd.pivot_table(dfc, values = ['Confirmed', 'Deaths', 'Cured'], index = 'State/UnionTerritory', aggfunc = max)"
   ]
  },
  {
   "cell_type": "code",
   "execution_count": null,
   "metadata": {},
   "outputs": [],
   "source": [
    "statewise['Recovery Rate'] = statewise['Cured'] * 100 / statewise['Confirmed']"
   ]
  },
  {
   "cell_type": "code",
   "execution_count": null,
   "metadata": {},
   "outputs": [],
   "source": [
    "statewise['Mortality Rate'] = statewise['Deaths'] * 100 / statewise['Confirmed']"
   ]
  },
  {
   "cell_type": "code",
   "execution_count": null,
   "metadata": {},
   "outputs": [],
   "source": [
    "statewise = statewise.sort_values(by = 'Confirmed', ascending = False)"
   ]
  },
  {
   "cell_type": "code",
   "execution_count": null,
   "metadata": {},
   "outputs": [],
   "source": [
    "statewise.style.background_gradient(cmap = 'gray')"
   ]
  },
  {
   "cell_type": "markdown",
   "metadata": {},
   "source": [
    "### **Exploratory Data Analysis**"
   ]
  },
  {
   "cell_type": "markdown",
   "metadata": {},
   "source": [
    "#### **Top 15 States (COVID-19 Active Cases)**"
   ]
  },
  {
   "cell_type": "code",
   "execution_count": null,
   "metadata": {},
   "outputs": [],
   "source": [
    "top_active = dfc.groupby(by = 'State/UnionTerritory').max()[['Active', 'Date']].sort_values(by = ['Active'], ascending = False).reset_index()\n",
    "\n",
    "plt.figure(figsize = (27, 7), dpi = 500)\n",
    "sns.barplot(x = 'State/UnionTerritory', y = 'Active', data = top_active.iloc[:15], palette = 'Dark2', linewidth = 1, edgecolor = 'black')\n",
    "\n",
    "plt.xlabel('States', fontdict = {'fontname': 'Arial', 'color': 'black', 'fontsize': 15, 'fontweight': 'bold'})\n",
    "plt.ylabel('Active Cases', fontdict = {'fontname': 'Arial', 'color': 'black', 'fontsize': 15, 'fontweight': 'bold'})\n",
    "plt.title(\"Top 15 States (COVID-19 Active Cases)\", fontdict = {'fontname': 'Times New Roman', 'color': 'black', 'fontsize': 20, 'fontweight': 'bold'})\n",
    "\n",
    "plt.show()"
   ]
  },
  {
   "cell_type": "markdown",
   "metadata": {},
   "source": [
    "**_From the analysis above, we may infer that Maharashtra has the most COVID-19 active cases, followed by Karnataka, Kerala, and Tamil Nadu, in that order._**"
   ]
  },
  {
   "cell_type": "markdown",
   "metadata": {},
   "source": [
    "#### **Top 15 States (COVID-19 Most Deaths)**"
   ]
  },
  {
   "cell_type": "code",
   "execution_count": null,
   "metadata": {},
   "outputs": [],
   "source": [
    "top_deaths = dfc.groupby(by = 'State/UnionTerritory').max()[['Deaths', 'Date']].sort_values(by = ['Deaths'], ascending = False).reset_index()\n",
    "\n",
    "plt.figure(figsize = (27, 7), dpi = 500)\n",
    "sns.barplot(x = 'State/UnionTerritory', y = 'Deaths', data = top_deaths.iloc[:15], palette = 'tab10', linewidth = 1, edgecolor = 'black')\n",
    "\n",
    "plt.xlabel('States', fontdict = {'fontname': 'Arial', 'color': 'black', 'fontsize': 15, 'fontweight': 'bold'})\n",
    "plt.ylabel('Deaths', fontdict = {'fontname': 'Arial', 'color': 'black', 'fontsize': 15, 'fontweight': 'bold'})\n",
    "plt.title(\"Top 15 States (COVID-19 Most Deaths)\", fontdict = {'fontname': 'Times New Roman', 'color': 'black', 'fontsize': 20, 'fontweight': 'bold'})\n",
    "\n",
    "plt.show()"
   ]
  },
  {
   "cell_type": "markdown",
   "metadata": {},
   "source": [
    "**_According to the analysis above, Maharashtra has the most COVID-19 deaths, followed by Karnataka, Tamil Nadu, and New Delhi, in that order._**"
   ]
  },
  {
   "cell_type": "markdown",
   "metadata": {},
   "source": [
    "#### **COVID-19 Growth**"
   ]
  },
  {
   "cell_type": "code",
   "execution_count": null,
   "metadata": {},
   "outputs": [],
   "source": [
    "plt.figure(figsize = (20, 7), dpi = 500)\n",
    "sns.lineplot(data = dfc[dfc['State/UnionTerritory'].isin(['Maharashtra', 'Karnataka', 'Kerala', 'Tamil Nadu', 'Uttar Pradesh', 'Rajasthan', 'Andhra Pradesh'])], \n",
    "             x = 'Date', y = 'Active', hue = 'State/UnionTerritory', linewidth = 2)\n",
    "\n",
    "plt.xlabel('Date', fontdict = {'fontname': 'Arial', 'color': 'black', 'fontsize': 13, 'fontweight': 'bold'})\n",
    "plt.ylabel('Active Cases', fontdict = {'fontname': 'Arial', 'color': 'black', 'fontsize': 13, 'fontweight': 'bold'})\n",
    "plt.title(\"COVID-19 Growth\", fontdict = {'fontname': 'Times New Roman', 'color': 'black', 'fontsize': 18, 'fontweight': 'bold'})\n",
    "\n",
    "plt.show()"
   ]
  },
  {
   "cell_type": "markdown",
   "metadata": {},
   "source": [
    "**_The analysis above shows COVID-19's growth through time._**"
   ]
  },
  {
   "cell_type": "markdown",
   "metadata": {},
   "source": [
    "#### **Gender (COVID-19 Vaccination)**"
   ]
  },
  {
   "cell_type": "code",
   "execution_count": null,
   "metadata": {},
   "outputs": [],
   "source": [
    "male = vaccination['Male(Individuals Vaccinated)'].sum()\n",
    "female = vaccination['Female(Individuals Vaccinated)'].sum()\n",
    "\n",
    "label = ['Male', 'Female']\n",
    "\n",
    "plt.pie([male, female], labels = label, autopct = '%.2f%%', textprops = {\"font\" : \"Arial\", \"size\" : \"large\", \"weight\" : \"bold\"}, wedgeprops = {\"edgecolor\" : \"white\", \"linewidth\" : 5, 'antialiased': True})\n",
    "plt.title('Gender (COVID-19 Vaccination)', fontdict = {'fontname': 'Times New Roman', 'color': 'black', 'fontsize': 17, 'fontweight': 'bold'})\n",
    "\n",
    "plt.show()"
   ]
  },
  {
   "cell_type": "markdown",
   "metadata": {},
   "source": [
    "**_We infer from the study above that during the COVID-19 vaccination effort, males had a greater rate of immunisation than females._**"
   ]
  },
  {
   "cell_type": "markdown",
   "metadata": {},
   "source": [
    "#### **Top 15 States (COVID-19 Most Vaccinations)**"
   ]
  },
  {
   "cell_type": "code",
   "execution_count": null,
   "metadata": {},
   "outputs": [],
   "source": [
    "vaccine_max = vaccine.groupby('State')['Total'].sum().to_frame('Total')\n",
    "vaccine_max = vaccine_max.sort_values('Total', ascending = False)[:15]\n",
    "\n",
    "plt.figure(figsize = (27, 7), dpi = 500)\n",
    "sns.barplot(x = vaccine_max.index, y = vaccine_max.Total, data = vaccine_max.iloc[:15], palette = 'Set1', linewidth = 1, edgecolor = 'black')\n",
    "\n",
    "plt.xlabel('States', fontdict = {'fontname': 'Arial', 'color': 'black', 'fontsize': 15, 'fontweight': 'bold'})\n",
    "plt.ylabel('Vaccination', fontdict = {'fontname': 'Arial', 'color': 'black', 'fontsize': 15, 'fontweight': 'bold'})\n",
    "plt.title(\"Top 15 States (COVID-19 Most Vaccinations)\", fontdict = {'fontname': 'Times New Roman', 'color': 'black', 'fontsize': 20, 'fontweight': 'bold'})\n",
    "\n",
    "plt.show()"
   ]
  },
  {
   "cell_type": "markdown",
   "metadata": {},
   "source": [
    "**_The analysis above shows, Maharashtra had the most vaccinations, followed by Uttar Pradesh, Rajasthan, and Gujarat._**"
   ]
  },
  {
   "cell_type": "markdown",
   "metadata": {},
   "source": [
    "#### **Top 15 States (COVID-19 Least Vaccinations)**"
   ]
  },
  {
   "cell_type": "code",
   "execution_count": null,
   "metadata": {},
   "outputs": [],
   "source": [
    "vaccine_min = vaccine.groupby('State')['Total'].sum().to_frame('Total')\n",
    "vaccine_min = vaccine_min.sort_values('Total', ascending = True)[:10]\n",
    "\n",
    "plt.figure(figsize = (30, 10), dpi = 700)\n",
    "sns.barplot(x = vaccine_min.index, y = vaccine_min.Total, data = vaccine_min.iloc[:10], palette = 'Set2', linewidth = 1, edgecolor = 'black')\n",
    "\n",
    "plt.xlabel('States', fontdict = {'fontname': 'Arial', 'color': 'black', 'fontsize': 17, 'fontweight': 'bold'})\n",
    "plt.ylabel('Vaccination', fontdict = {'fontname': 'Arial', 'color': 'black', 'fontsize': 17, 'fontweight': 'bold'})\n",
    "plt.title(\"Top 10 States (COVID-19 Least Vaccinations)\", fontdict = {'fontname': 'Times New Roman', 'color': 'black', 'fontsize': 22, 'fontweight': 'bold'})\n",
    "\n",
    "plt.show()"
   ]
  },
  {
   "cell_type": "markdown",
   "metadata": {},
   "source": [
    "**_The analysis above shows, Lakshadweep had the least vaccinations, followed by Andaman and Nicobar Islands, Ladakh, and Dadra and Nagar Haveli and Daman and Diu._**"
   ]
  },
  {
   "cell_type": "markdown",
   "metadata": {},
   "source": [
    "#### **Conclusion**\n",
    "\n",
    "**_According to the data analysis project mentioned above on the 2019 Coronavirus Pandemic in India, Maharashtra had the highest number of active cases, the fastest vaccination rate, and the highest number of fatalities. In India, Uttar Pradesh had the second-highest vaccination rate, while Karnataka had the second-highest COVID activity rate. The Andaman and Nicobar islands and Lakshadweep were the two Union Territories with the lowest vaccination rates, respectively. Additionally, we learned that COVID-19 was spreading over time and that men were more likely to be immunised than women._**"
   ]
  }
 ],
 "metadata": {
  "kernelspec": {
   "display_name": "base",
   "language": "python",
   "name": "python3"
  },
  "language_info": {
   "codemirror_mode": {
    "name": "ipython",
    "version": 3
   },
   "file_extension": ".py",
   "mimetype": "text/x-python",
   "name": "python",
   "nbconvert_exporter": "python",
   "pygments_lexer": "ipython3",
   "version": "3.12.2"
  },
  "orig_nbformat": 4
 },
 "nbformat": 4,
 "nbformat_minor": 2
}
