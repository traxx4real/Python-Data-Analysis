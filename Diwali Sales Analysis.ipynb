{
 "cells": [
  {
   "cell_type": "markdown",
   "metadata": {},
   "source": [
    "# **Diwali Sales Analysis**"
   ]
  },
  {
   "cell_type": "code",
   "execution_count": null,
   "metadata": {},
   "outputs": [],
   "source": [
    "import numpy as np\n",
    "import pandas as pd\n",
    "import matplotlib.pyplot as plt\n",
    "import seaborn as sns"
   ]
  },
  {
   "cell_type": "markdown",
   "metadata": {},
   "source": [
    "### **Data Cleaning**"
   ]
  },
  {
   "cell_type": "code",
   "execution_count": null,
   "metadata": {},
   "outputs": [],
   "source": [
    "df = pd.read_csv('Data/Diwali_Sales_Data.csv', encoding = 'unicode_escape') # 'unicode_escape' is used to avoid encoding error"
   ]
  },
  {
   "cell_type": "code",
   "execution_count": null,
   "metadata": {},
   "outputs": [],
   "source": [
    "df.shape # shape provides the dimenson of any DataFrame"
   ]
  },
  {
   "cell_type": "code",
   "execution_count": null,
   "metadata": {},
   "outputs": [],
   "source": [
    "df.info() # info() displays the information about the DataFrame"
   ]
  },
  {
   "cell_type": "code",
   "execution_count": null,
   "metadata": {},
   "outputs": [],
   "source": [
    "df.drop(['Status', 'unnamed1'], axis = 1, inplace = True) # drop() is used to drop the unused rows/columns"
   ]
  },
  {
   "cell_type": "code",
   "execution_count": null,
   "metadata": {},
   "outputs": [],
   "source": [
    "pd.isnull(df).sum() # isnull() checks for the null values in the DataFrame"
   ]
  },
  {
   "cell_type": "code",
   "execution_count": null,
   "metadata": {},
   "outputs": [],
   "source": [
    "df.dropna(inplace = True) #dropna is used to drop the null values in the DataFrame"
   ]
  },
  {
   "cell_type": "code",
   "execution_count": null,
   "metadata": {},
   "outputs": [],
   "source": [
    "df['Amount'] = df['Amount'].astype('int') # astype is used to change the datatype "
   ]
  },
  {
   "cell_type": "code",
   "execution_count": null,
   "metadata": {},
   "outputs": [],
   "source": [
    "df.columns # columns projects the columns present in the DataFrame"
   ]
  },
  {
   "cell_type": "code",
   "execution_count": null,
   "metadata": {},
   "outputs": [],
   "source": [
    "df.describe() # describe() returns the description of the data in the DataFrame"
   ]
  },
  {
   "cell_type": "markdown",
   "metadata": {},
   "source": [
    "### **Exploratory Data Analysis**"
   ]
  },
  {
   "cell_type": "markdown",
   "metadata": {},
   "source": [
    "#### **Gender**"
   ]
  },
  {
   "cell_type": "code",
   "execution_count": null,
   "metadata": {},
   "outputs": [],
   "source": [
    "plt.figure(figsize = (10, 6), dpi = 100)\n",
    "sample = sns.countplot(x = 'Gender', data = df, palette = 'autumn')\n",
    "\n",
    "for bars in sample.containers:\n",
    "    sample.bar_label(bars)\n",
    "    \n",
    "plt.xlabel('Sex', fontdict = {'fontname': 'Arial', 'color': 'black', 'fontsize': 13, 'fontweight': 'bold'})\n",
    "plt.ylabel('Person Count', fontdict = {'fontname': 'Arial', 'color': 'black', 'fontsize': 13, 'fontweight': 'bold'})\n",
    "plt.title(\"Person Count - Sex Graph\", fontdict = {'fontname': 'Times New Roman', 'color': 'black', 'fontsize': 18, 'fontweight': 'bold'})\n",
    "\n",
    "plt.show()"
   ]
  },
  {
   "cell_type": "code",
   "execution_count": null,
   "metadata": {},
   "outputs": [],
   "source": [
    "sample = df.groupby(['Gender'], as_index = False)['Amount'].sum().sort_values(by = 'Amount', ascending = False)\n",
    "\n",
    "plt.figure(figsize = (10, 6), dpi = 100)\n",
    "sns.barplot(x = 'Gender', y = 'Amount', data = sample, palette = 'autumn_r')\n",
    "\n",
    "plt.xlabel('Sex', fontdict = {'fontname': 'Arial', 'color': 'black', 'fontsize': 13, 'fontweight': 'bold'})\n",
    "plt.ylabel('Amount', fontdict = {'fontname': 'Arial', 'color': 'black', 'fontsize': 13, 'fontweight': 'bold'})\n",
    "plt.title(\"Amount - Sex Graph\", fontdict = {'fontname': 'Times New Roman', 'color': 'black', 'fontsize': 18, 'fontweight': 'bold'})\n",
    "\n",
    "plt.show()"
   ]
  },
  {
   "cell_type": "markdown",
   "metadata": {},
   "source": [
    "**_The analysis above leads us to the conclusion that most consumers are women, and that women have greater purchasing power than men._**"
   ]
  },
  {
   "cell_type": "markdown",
   "metadata": {},
   "source": [
    "#### **Age**"
   ]
  },
  {
   "cell_type": "code",
   "execution_count": null,
   "metadata": {},
   "outputs": [],
   "source": [
    "plt.figure(figsize = (10, 6), dpi = 100)\n",
    "sample = sns.countplot(x = 'Age Group', hue = 'Gender', data = df, palette = 'spring')\n",
    "\n",
    "for bars in sample.containers:\n",
    "    sample.bar_label(bars)\n",
    "    \n",
    "plt.xlabel('Age Group', fontdict = {'fontname': 'Arial', 'color': 'black', 'fontsize': 13, 'fontweight': 'bold'})\n",
    "plt.ylabel('Person Count', fontdict = {'fontname': 'Arial', 'color': 'black', 'fontsize': 13, 'fontweight': 'bold'})\n",
    "plt.title(\"Person Count - Age Group Graph\", fontdict = {'fontname': 'Times New Roman', 'color': 'black', 'fontsize': 18, 'fontweight': 'bold'})\n",
    "\n",
    "plt.show()"
   ]
  },
  {
   "cell_type": "code",
   "execution_count": null,
   "metadata": {},
   "outputs": [],
   "source": [
    "sample = df.groupby(['Age Group'], as_index = False)['Amount'].sum().sort_values(by = 'Amount', ascending = False)\n",
    "\n",
    "plt.figure(figsize = (10, 6), dpi = 100)\n",
    "sns.barplot(x = 'Age Group', y = 'Amount', data = sample, palette = 'Accent')\n",
    "\n",
    "plt.xlabel('Age Group', fontdict = {'fontname': 'Arial', 'color': 'black', 'fontsize': 13, 'fontweight': 'bold'})\n",
    "plt.ylabel('Amount', fontdict = {'fontname': 'Arial', 'color': 'black', 'fontsize': 13, 'fontweight': 'bold'})\n",
    "plt.title(\"Amount - Age Group Graph\", fontdict = {'fontname': 'Times New Roman', 'color': 'black', 'fontsize': 18, 'fontweight': 'bold'})\n",
    "\n",
    "plt.show()"
   ]
  },
  {
   "cell_type": "markdown",
   "metadata": {},
   "source": [
    "**_The analysis above leads us to the conclusion that women between the ages of 26 and 35 make up the majority of consumers._**"
   ]
  },
  {
   "cell_type": "markdown",
   "metadata": {},
   "source": [
    "#### **State**"
   ]
  },
  {
   "cell_type": "code",
   "execution_count": null,
   "metadata": {},
   "outputs": [],
   "source": [
    "sample = df.groupby(['State'], as_index = False)['Orders'].sum().sort_values(by = 'Orders', ascending = False)\n",
    "\n",
    "plt.figure(figsize = (27, 7), dpi = 500)\n",
    "sns.barplot(x = 'State', y = 'Orders', data = sample, palette = 'Set1')\n",
    "\n",
    "plt.xlabel('States', fontdict = {'fontname': 'Arial', 'color': 'black', 'fontsize': 15, 'fontweight': 'bold'})\n",
    "plt.ylabel('Orders', fontdict = {'fontname': 'Arial', 'color': 'black', 'fontsize': 15, 'fontweight': 'bold'})\n",
    "plt.title(\"States - Orders Graph\", fontdict = {'fontname': 'Times New Roman', 'color': 'black', 'fontsize': 20, 'fontweight': 'bold'})\n",
    "\n",
    "plt.show()"
   ]
  },
  {
   "cell_type": "code",
   "execution_count": null,
   "metadata": {},
   "outputs": [],
   "source": [
    "sample = df.groupby(['State'], as_index = False)['Amount'].sum().sort_values(by = 'Amount', ascending = False)\n",
    "\n",
    "plt.figure(figsize = (27, 7), dpi = 500)\n",
    "sns.barplot(x = 'State', y = 'Amount', data = sample, palette = 'Set1')\n",
    "\n",
    "plt.xlabel('States', fontdict = {'fontname': 'Arial', 'color': 'black', 'fontsize': 15, 'fontweight': 'bold'})\n",
    "plt.ylabel('Amount', fontdict = {'fontname': 'Arial', 'color': 'black', 'fontsize': 15, 'fontweight': 'bold'})\n",
    "plt.title(\"States - Amount Graph\", fontdict = {'fontname': 'Times New Roman', 'color': 'black', 'fontsize': 20, 'fontweight': 'bold'})\n",
    "\n",
    "plt.show()"
   ]
  },
  {
   "cell_type": "markdown",
   "metadata": {},
   "source": [
    "**_From the above information we conclude that the majority of orders come from Uttar Pradesh, Maharashtra, and Karnataka, respectively. The same states also account for the majority of order expenditures._**"
   ]
  },
  {
   "cell_type": "markdown",
   "metadata": {},
   "source": [
    "#### **Marital Status**"
   ]
  },
  {
   "cell_type": "code",
   "execution_count": null,
   "metadata": {},
   "outputs": [],
   "source": [
    "plt.figure(figsize = (10, 6), dpi = 100)\n",
    "sample = sns.countplot(x = \"Marital_Status\", data = df, palette = 'cool')\n",
    "\n",
    "for bars in sample.containers:\n",
    "    sample.bar_label(bars)\n",
    "    \n",
    "plt.xlabel('Marital Status', fontdict = {'fontname': 'Arial', 'color': 'black', 'fontsize': 13, 'fontweight': 'bold'})\n",
    "plt.ylabel('Person Count', fontdict = {'fontname': 'Arial', 'color': 'black', 'fontsize': 13, 'fontweight': 'bold'})\n",
    "plt.title(\"Person Count - Marital Status Graph\", fontdict = {'fontname': 'Times New Roman', 'color': 'black', 'fontsize': 18, 'fontweight': 'bold'})\n",
    "\n",
    "plt.show()"
   ]
  },
  {
   "cell_type": "code",
   "execution_count": null,
   "metadata": {},
   "outputs": [],
   "source": [
    "sample = df.groupby(['Marital_Status', 'Gender'], as_index = False)['Amount'].sum().sort_values(by = 'Amount', ascending = False)\n",
    "\n",
    "plt.figure(figsize = (10, 6), dpi = 100)\n",
    "sns.barplot(x = 'Marital_Status', y = 'Amount', data = sample, hue = 'Gender', palette = 'cool_r')\n",
    "\n",
    "plt.xlabel('Marital Status', fontdict = {'fontname': 'Arial', 'color': 'black', 'fontsize': 13, 'fontweight': 'bold'})\n",
    "plt.ylabel('Amount', fontdict = {'fontname': 'Arial', 'color': 'black', 'fontsize': 13, 'fontweight': 'bold'})\n",
    "plt.title(\"Amount - Marital Status Graph\", fontdict = {'fontname': 'Times New Roman', 'color': 'black', 'fontsize': 18, 'fontweight': 'bold'})\n",
    "\n",
    "plt.show()"
   ]
  },
  {
   "cell_type": "markdown",
   "metadata": {},
   "source": [
    "**_The analysis above leads us to the conclusion that the majority of consumers are married women with substantial purchasing power._**"
   ]
  },
  {
   "cell_type": "markdown",
   "metadata": {},
   "source": [
    "#### **Occupation**"
   ]
  },
  {
   "cell_type": "code",
   "execution_count": null,
   "metadata": {},
   "outputs": [],
   "source": [
    "plt.figure(figsize = (25, 5), dpi = 500)\n",
    "sample = sns.countplot(x = 'Occupation', data = df)\n",
    "\n",
    "for bars in sample.containers:\n",
    "    sample.bar_label(bars)\n",
    "    \n",
    "plt.xlabel('Occupation', fontdict = {'fontname': 'Arial', 'color': 'black', 'fontsize': 15, 'fontweight': 'bold'})\n",
    "plt.ylabel('Person Count', fontdict = {'fontname': 'Arial', 'color': 'black', 'fontsize': 15, 'fontweight': 'bold'})\n",
    "plt.title(\"Person Count - Occupation Graph\", fontdict = {'fontname': 'Times New Roman', 'color': 'black', 'fontsize': 20, 'fontweight': 'bold'})\n",
    "\n",
    "plt.show()"
   ]
  },
  {
   "cell_type": "code",
   "execution_count": null,
   "metadata": {},
   "outputs": [],
   "source": [
    "sample = df.groupby(['Occupation'], as_index = False)['Amount'].sum().sort_values(by = 'Amount', ascending = False)\n",
    "\n",
    "plt.figure(figsize = (25, 5), dpi = 500)\n",
    "sns.barplot(x = 'Occupation', y = 'Amount', data = sample)\n",
    "\n",
    "plt.xlabel('Occupation', fontdict = {'fontname': 'Arial', 'color': 'black', 'fontsize': 15, 'fontweight': 'bold'})\n",
    "plt.ylabel('Amount', fontdict = {'fontname': 'Arial', 'color': 'black', 'fontsize': 15, 'fontweight': 'bold'})\n",
    "plt.title(\"Amount - Occupation Graph\", fontdict = {'fontname': 'Times New Roman', 'color': 'black', 'fontsize': 20, 'fontweight': 'bold'})\n",
    "\n",
    "plt.show()"
   ]
  },
  {
   "cell_type": "markdown",
   "metadata": {},
   "source": [
    "**_The analysis above leads us to the conclusion that the majority of consumers are employed in the IT, Aviation, and Healthcare sectors._**"
   ]
  },
  {
   "cell_type": "markdown",
   "metadata": {},
   "source": [
    "#### **Product Category**"
   ]
  },
  {
   "cell_type": "code",
   "execution_count": null,
   "metadata": {},
   "outputs": [],
   "source": [
    "plt.figure(figsize = (30, 10), dpi = 700)\n",
    "sample = sns.countplot(x = 'Product_Category', data = df)\n",
    "\n",
    "for bars in sample.containers:\n",
    "    sample.bar_label(bars)\n",
    "    \n",
    "plt.xlabel('Product Category', fontdict = {'fontname': 'Arial', 'color': 'black', 'fontsize': 17, 'fontweight': 'bold'})\n",
    "plt.ylabel('Person Count', fontdict = {'fontname': 'Arial', 'color': 'black', 'fontsize': 17, 'fontweight': 'bold'})\n",
    "plt.title(\"Person Count - Product Category Graph\", fontdict = {'fontname': 'Times New Roman', 'color': 'black', 'fontsize': 22, 'fontweight': 'bold'})\n",
    "\n",
    "plt.show()"
   ]
  },
  {
   "cell_type": "code",
   "execution_count": null,
   "metadata": {},
   "outputs": [],
   "source": [
    "sample = df.groupby(['Product_Category'], as_index = False)['Amount'].sum().sort_values(by = 'Amount', ascending = False)\n",
    "\n",
    "plt.figure(figsize = (35, 14), dpi = 700)\n",
    "sns.barplot(x = 'Product_Category', y = 'Amount', data = sample)\n",
    "\n",
    "plt.xlabel('Product Category', fontdict = {'fontname': 'Arial', 'color': 'black', 'fontsize': 18, 'fontweight': 'bold'})\n",
    "plt.ylabel('Amount', fontdict = {'fontname': 'Arial', 'color': 'black', 'fontsize': 18, 'fontweight': 'bold'})\n",
    "plt.title(\"Amount - Product Category Graph\", fontdict = {'fontname': 'Times New Roman', 'color': 'black', 'fontsize': 25, 'fontweight': 'bold'})\n",
    "\n",
    "plt.show()"
   ]
  },
  {
   "cell_type": "markdown",
   "metadata": {},
   "source": [
    "**_The analysis above leads us to the conclusion that the most popular products are in the categories of Food, Clothing, and Electronics._**"
   ]
  },
  {
   "cell_type": "code",
   "execution_count": null,
   "metadata": {},
   "outputs": [],
   "source": [
    "sample = df.groupby(['Product_ID'], as_index = False)['Orders'].sum().sort_values(by = 'Orders', ascending = False).head(20)\n",
    "\n",
    "plt.figure(figsize = (27, 7), dpi = 500)\n",
    "sns.barplot(x = 'Product_ID', y = 'Orders', data = sample, palette = 'magma')\n",
    "\n",
    "plt.xlabel('Product ID', fontdict = {'fontname': 'Arial', 'color': 'black', 'fontsize': 15, 'fontweight': 'bold'})\n",
    "plt.ylabel('Orders', fontdict = {'fontname': 'Arial', 'color': 'black', 'fontsize': 15, 'fontweight': 'bold'})\n",
    "plt.title(\"Top 20 most sold products\", fontdict = {'fontname': 'Times New Roman', 'color': 'black', 'fontsize': 20, 'fontweight': 'bold'})\n",
    "\n",
    "plt.show()"
   ]
  },
  {
   "cell_type": "markdown",
   "metadata": {},
   "source": [
    "**_We can infer from the data above that the item with the Product ID P00265242 is the most sold item._**"
   ]
  },
  {
   "cell_type": "markdown",
   "metadata": {},
   "source": [
    "#### **Conclusion**\n",
    "\n",
    "**_Married women aged 26 to 35 who work in IT, Aviation, and Healthcare in the states of Uttar Pradesh, Maharashtra, and Karnataka are more likely to purchase items from the Food, Clothing & Apparel, and Electronics & Gadgets categories._**"
   ]
  }
 ],
 "metadata": {
  "kernelspec": {
   "display_name": "base",
   "language": "python",
   "name": "python3"
  },
  "language_info": {
   "codemirror_mode": {
    "name": "ipython",
    "version": 3
   },
   "file_extension": ".py",
   "mimetype": "text/x-python",
   "name": "python",
   "nbconvert_exporter": "python",
   "pygments_lexer": "ipython3",
   "version": "3.11.5"
  },
  "orig_nbformat": 4
 },
 "nbformat": 4,
 "nbformat_minor": 2
}
