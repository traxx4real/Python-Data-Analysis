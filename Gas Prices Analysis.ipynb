{
 "cells": [
  {
   "cell_type": "markdown",
   "metadata": {
    "collapsed": false
   },
   "source": [
    "# **Gas Prices (1990 - 2008) Analysis**"
   ]
  },
  {
   "cell_type": "code",
   "execution_count": null,
   "metadata": {},
   "outputs": [],
   "source": [
    "import matplotlib.pyplot as plt\n",
    "import numpy as np\n",
    "import pandas as pd"
   ]
  },
  {
   "cell_type": "markdown",
   "metadata": {},
   "source": [
    "### **Exploratory Data Analysis**"
   ]
  },
  {
   "cell_type": "code",
   "execution_count": null,
   "metadata": {},
   "outputs": [],
   "source": [
    "gas = pd.read_csv('Data/Gas_Prices.csv')\n",
    "plt.figure(figsize = (12, 8), dpi = 100)\n",
    "\n",
    "plt.plot(gas.Year, gas.Australia, '.-', label = 'Australia')\n",
    "plt.plot(gas.Year, gas.Canada, '.-', label = 'Canada')\n",
    "plt.plot(gas.Year, gas.France, '.-', label = 'France')\n",
    "plt.plot(gas.Year, gas.Germany, '.-', label = 'Germany')\n",
    "plt.plot(gas.Year, gas.Italy, '.-', label = 'Italy')\n",
    "plt.plot(gas.Year, gas.Japan, '.-', label = 'Japan')\n",
    "plt.plot(gas.Year, gas.Mexico, '.-', label = 'Mexico')\n",
    "plt.plot(gas.Year, gas['South Korea'], '.-', label = 'South Korea') # [] is used here as South Korea is a multiword name\n",
    "plt.plot(gas.Year, gas.UK, '.-', label = 'UK')\n",
    "plt.plot(gas.Year, gas.USA, '.-', label = 'USA')\n",
    "\n",
    "# function to plot the given data in the graph\n",
    "# for country in gas:\n",
    "#     if country != 'Year':\n",
    "#         plt.plot(gas.Year, gas[country], marker = '.')\n",
    "\n",
    "# function to plot the gas prices of some specific countries\n",
    "# countries = ['Australia', 'Japan', 'France', 'USA', 'UK']\n",
    "# for country in gas:\n",
    "#     if country in countries:\n",
    "#         plt.plot(gas.Year, gas[country], marker = '.') \n",
    "\n",
    "plt.xticks(gas.Year)\n",
    "plt.title('Gasoline Prices (1990 - 2008) (in USD)', fontdict = {'fontname': 'Times New Roman', 'color': 'black', 'fontsize': 20, 'fontweight': 'bold'})\n",
    "plt.xlabel('Year', fontdict = {'fontname': 'Arial', 'color': 'black', 'fontsize': 15, 'fontweight': 'bold'})\n",
    "plt.ylabel('Dollars/Gallon', fontdict = {'fontname': 'Arial', 'color': 'black', 'fontsize': 15, 'fontweight': 'bold'})\n",
    "plt.legend()\n",
    "# plt.savefig('Data/Graph_01.png', dpi = 300) # saves the graph created into the directory\n",
    "\n",
    "plt.show()"
   ]
  }
 ],
 "metadata": {
  "kernelspec": {
   "display_name": "base",
   "language": "python",
   "name": "python3"
  },
  "language_info": {
   "codemirror_mode": {
    "name": "ipython",
    "version": 3
   },
   "file_extension": ".py",
   "mimetype": "text/x-python",
   "name": "python",
   "nbconvert_exporter": "python",
   "pygments_lexer": "ipython3",
   "version": "0.0.0"
  },
  "orig_nbformat": 4
 },
 "nbformat": 4,
 "nbformat_minor": 2
}
